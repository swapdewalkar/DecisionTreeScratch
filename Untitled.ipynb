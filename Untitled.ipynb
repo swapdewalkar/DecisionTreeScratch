{
 "cells": [
  {
   "cell_type": "code",
   "execution_count": 1,
   "metadata": {},
   "outputs": [
    {
     "name": "stdout",
     "output_type": "stream",
     "text": [
      "1\n",
      "swapnil\n"
     ]
    }
   ],
   "source": [
    "import dill\n",
    "class q:\n",
    "    def opo(self):\n",
    "       print \" opo \" \n",
    "        \n",
    "class p:\n",
    "    def s(self):\n",
    "        print self.ss\n",
    "        self.sl()\n",
    "        pass\n",
    "    \n",
    "    def sl(self):\n",
    "        print \"swapnil\"\n",
    "        self.t=q()\n",
    "        pass\n",
    "    \n",
    "    def __init__(self):\n",
    "        import numpy\n",
    "        import math\n",
    "        import csv\n",
    "        import operator\n",
    "        self.op=operator\n",
    "        self.np = numpy\n",
    "        self.mt= math\n",
    "        self.l = []\n",
    "        self.cor = 0\n",
    "        self.wor = 0\n",
    "        self.csv=csv\n",
    "        self.ss=1\n",
    "        pass\n",
    "m=p()\n",
    "f=open('cs17mtech11004.model','wb')\n",
    "dill.dump(m,f)\n",
    "f.close()\n",
    "fl=open('cs17mtech11004.model','rb')\n",
    "l=dill.load(fl)\n",
    "# l.predict(\"test.csv\")\n",
    "l.s()"
   ]
  },
  {
   "cell_type": "code",
   "execution_count": null,
   "metadata": {
    "collapsed": true
   },
   "outputs": [],
   "source": []
  },
  {
   "cell_type": "code",
   "execution_count": null,
   "metadata": {
    "collapsed": true
   },
   "outputs": [],
   "source": []
  }
 ],
 "metadata": {
  "kernelspec": {
   "display_name": "Python 2",
   "language": "python",
   "name": "python2"
  },
  "language_info": {
   "codemirror_mode": {
    "name": "ipython",
    "version": 2
   },
   "file_extension": ".py",
   "mimetype": "text/x-python",
   "name": "python",
   "nbconvert_exporter": "python",
   "pygments_lexer": "ipython2",
   "version": "2.7.12"
  }
 },
 "nbformat": 4,
 "nbformat_minor": 2
}
